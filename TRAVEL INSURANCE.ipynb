{
 "cells": [
  {
   "cell_type": "markdown",
   "id": "d8c1f416",
   "metadata": {},
   "source": [
    "### IMPORT THE NECESSARY LIBRARIES\n",
    "We used the following libraries:\n",
    "\n",
    "    1. Pandas \n",
    "    2. Numpy \n",
    "    3. Seaborn \n",
    "    4. Matplotlib"
   ]
  },
  {
   "cell_type": "code",
   "execution_count": 1,
   "id": "86d7da39",
   "metadata": {},
   "outputs": [],
   "source": [
    "import pandas as pd\n",
    "import numpy as np\n",
    "import seaborn as sns\n",
    "import matplotlib.pyplot as plt"
   ]
  },
  {
   "cell_type": "markdown",
   "id": "ad8591c3",
   "metadata": {},
   "source": [
    "### READ THE DATASETS\n",
    "\n",
    "We use the pandas library to read the datatsets"
   ]
  },
  {
   "cell_type": "code",
   "execution_count": 2,
   "id": "48f45a17",
   "metadata": {},
   "outputs": [
    {
     "data": {
      "text/html": [
       "<div>\n",
       "<style scoped>\n",
       "    .dataframe tbody tr th:only-of-type {\n",
       "        vertical-align: middle;\n",
       "    }\n",
       "\n",
       "    .dataframe tbody tr th {\n",
       "        vertical-align: top;\n",
       "    }\n",
       "\n",
       "    .dataframe thead th {\n",
       "        text-align: right;\n",
       "    }\n",
       "</style>\n",
       "<table border=\"1\" class=\"dataframe\">\n",
       "  <thead>\n",
       "    <tr style=\"text-align: right;\">\n",
       "      <th></th>\n",
       "      <th>Unnamed: 0</th>\n",
       "      <th>Age</th>\n",
       "      <th>Employment Type</th>\n",
       "      <th>GraduateOrNot</th>\n",
       "      <th>AnnualIncome</th>\n",
       "      <th>FamilyMembers</th>\n",
       "      <th>ChronicDiseases</th>\n",
       "      <th>FrequentFlyer</th>\n",
       "      <th>EverTravelledAbroad</th>\n",
       "      <th>TravelInsurance</th>\n",
       "    </tr>\n",
       "  </thead>\n",
       "  <tbody>\n",
       "    <tr>\n",
       "      <th>0</th>\n",
       "      <td>0</td>\n",
       "      <td>31</td>\n",
       "      <td>Government Sector</td>\n",
       "      <td>Yes</td>\n",
       "      <td>400000</td>\n",
       "      <td>6</td>\n",
       "      <td>1</td>\n",
       "      <td>No</td>\n",
       "      <td>No</td>\n",
       "      <td>0</td>\n",
       "    </tr>\n",
       "    <tr>\n",
       "      <th>1</th>\n",
       "      <td>1</td>\n",
       "      <td>31</td>\n",
       "      <td>Private Sector/Self Employed</td>\n",
       "      <td>Yes</td>\n",
       "      <td>1250000</td>\n",
       "      <td>7</td>\n",
       "      <td>0</td>\n",
       "      <td>No</td>\n",
       "      <td>No</td>\n",
       "      <td>0</td>\n",
       "    </tr>\n",
       "    <tr>\n",
       "      <th>2</th>\n",
       "      <td>2</td>\n",
       "      <td>34</td>\n",
       "      <td>Private Sector/Self Employed</td>\n",
       "      <td>Yes</td>\n",
       "      <td>500000</td>\n",
       "      <td>4</td>\n",
       "      <td>1</td>\n",
       "      <td>No</td>\n",
       "      <td>No</td>\n",
       "      <td>1</td>\n",
       "    </tr>\n",
       "    <tr>\n",
       "      <th>3</th>\n",
       "      <td>3</td>\n",
       "      <td>28</td>\n",
       "      <td>Private Sector/Self Employed</td>\n",
       "      <td>Yes</td>\n",
       "      <td>700000</td>\n",
       "      <td>3</td>\n",
       "      <td>1</td>\n",
       "      <td>No</td>\n",
       "      <td>No</td>\n",
       "      <td>0</td>\n",
       "    </tr>\n",
       "    <tr>\n",
       "      <th>4</th>\n",
       "      <td>4</td>\n",
       "      <td>28</td>\n",
       "      <td>Private Sector/Self Employed</td>\n",
       "      <td>Yes</td>\n",
       "      <td>700000</td>\n",
       "      <td>8</td>\n",
       "      <td>1</td>\n",
       "      <td>Yes</td>\n",
       "      <td>No</td>\n",
       "      <td>0</td>\n",
       "    </tr>\n",
       "    <tr>\n",
       "      <th>...</th>\n",
       "      <td>...</td>\n",
       "      <td>...</td>\n",
       "      <td>...</td>\n",
       "      <td>...</td>\n",
       "      <td>...</td>\n",
       "      <td>...</td>\n",
       "      <td>...</td>\n",
       "      <td>...</td>\n",
       "      <td>...</td>\n",
       "      <td>...</td>\n",
       "    </tr>\n",
       "    <tr>\n",
       "      <th>1982</th>\n",
       "      <td>1982</td>\n",
       "      <td>33</td>\n",
       "      <td>Private Sector/Self Employed</td>\n",
       "      <td>Yes</td>\n",
       "      <td>1500000</td>\n",
       "      <td>4</td>\n",
       "      <td>0</td>\n",
       "      <td>Yes</td>\n",
       "      <td>Yes</td>\n",
       "      <td>1</td>\n",
       "    </tr>\n",
       "    <tr>\n",
       "      <th>1983</th>\n",
       "      <td>1983</td>\n",
       "      <td>28</td>\n",
       "      <td>Private Sector/Self Employed</td>\n",
       "      <td>Yes</td>\n",
       "      <td>1750000</td>\n",
       "      <td>5</td>\n",
       "      <td>1</td>\n",
       "      <td>No</td>\n",
       "      <td>Yes</td>\n",
       "      <td>0</td>\n",
       "    </tr>\n",
       "    <tr>\n",
       "      <th>1984</th>\n",
       "      <td>1984</td>\n",
       "      <td>28</td>\n",
       "      <td>Private Sector/Self Employed</td>\n",
       "      <td>Yes</td>\n",
       "      <td>1150000</td>\n",
       "      <td>6</td>\n",
       "      <td>1</td>\n",
       "      <td>No</td>\n",
       "      <td>No</td>\n",
       "      <td>0</td>\n",
       "    </tr>\n",
       "    <tr>\n",
       "      <th>1985</th>\n",
       "      <td>1985</td>\n",
       "      <td>34</td>\n",
       "      <td>Private Sector/Self Employed</td>\n",
       "      <td>Yes</td>\n",
       "      <td>1000000</td>\n",
       "      <td>6</td>\n",
       "      <td>0</td>\n",
       "      <td>Yes</td>\n",
       "      <td>Yes</td>\n",
       "      <td>1</td>\n",
       "    </tr>\n",
       "    <tr>\n",
       "      <th>1986</th>\n",
       "      <td>1986</td>\n",
       "      <td>34</td>\n",
       "      <td>Private Sector/Self Employed</td>\n",
       "      <td>Yes</td>\n",
       "      <td>500000</td>\n",
       "      <td>4</td>\n",
       "      <td>0</td>\n",
       "      <td>No</td>\n",
       "      <td>No</td>\n",
       "      <td>0</td>\n",
       "    </tr>\n",
       "  </tbody>\n",
       "</table>\n",
       "<p>1987 rows × 10 columns</p>\n",
       "</div>"
      ],
      "text/plain": [
       "      Unnamed: 0  Age               Employment Type GraduateOrNot  \\\n",
       "0              0   31             Government Sector           Yes   \n",
       "1              1   31  Private Sector/Self Employed           Yes   \n",
       "2              2   34  Private Sector/Self Employed           Yes   \n",
       "3              3   28  Private Sector/Self Employed           Yes   \n",
       "4              4   28  Private Sector/Self Employed           Yes   \n",
       "...          ...  ...                           ...           ...   \n",
       "1982        1982   33  Private Sector/Self Employed           Yes   \n",
       "1983        1983   28  Private Sector/Self Employed           Yes   \n",
       "1984        1984   28  Private Sector/Self Employed           Yes   \n",
       "1985        1985   34  Private Sector/Self Employed           Yes   \n",
       "1986        1986   34  Private Sector/Self Employed           Yes   \n",
       "\n",
       "      AnnualIncome  FamilyMembers  ChronicDiseases FrequentFlyer  \\\n",
       "0           400000              6                1            No   \n",
       "1          1250000              7                0            No   \n",
       "2           500000              4                1            No   \n",
       "3           700000              3                1            No   \n",
       "4           700000              8                1           Yes   \n",
       "...            ...            ...              ...           ...   \n",
       "1982       1500000              4                0           Yes   \n",
       "1983       1750000              5                1            No   \n",
       "1984       1150000              6                1            No   \n",
       "1985       1000000              6                0           Yes   \n",
       "1986        500000              4                0            No   \n",
       "\n",
       "     EverTravelledAbroad  TravelInsurance  \n",
       "0                     No                0  \n",
       "1                     No                0  \n",
       "2                     No                1  \n",
       "3                     No                0  \n",
       "4                     No                0  \n",
       "...                  ...              ...  \n",
       "1982                 Yes                1  \n",
       "1983                 Yes                0  \n",
       "1984                  No                0  \n",
       "1985                 Yes                1  \n",
       "1986                  No                0  \n",
       "\n",
       "[1987 rows x 10 columns]"
      ]
     },
     "execution_count": 2,
     "metadata": {},
     "output_type": "execute_result"
    }
   ],
   "source": [
    "df = pd.read_csv('TravelInsurancePrediction.csv')\n",
    "df"
   ]
  },
  {
   "cell_type": "code",
   "execution_count": 3,
   "id": "07257497",
   "metadata": {},
   "outputs": [
    {
     "data": {
      "text/plain": [
       "['Unnamed: 0',\n",
       " 'Age',\n",
       " 'Employment Type',\n",
       " 'GraduateOrNot',\n",
       " 'AnnualIncome',\n",
       " 'FamilyMembers',\n",
       " 'ChronicDiseases',\n",
       " 'FrequentFlyer',\n",
       " 'EverTravelledAbroad',\n",
       " 'TravelInsurance']"
      ]
     },
     "execution_count": 3,
     "metadata": {},
     "output_type": "execute_result"
    }
   ],
   "source": [
    "list(df)"
   ]
  },
  {
   "cell_type": "markdown",
   "id": "78bbb377",
   "metadata": {},
   "source": [
    "### CONVERT ALL ALPHABETICAL ATTRIBUTES TO NUMERICALS\n",
    "\n",
    "From the dataset we can observe that the following columms should be converted to numerical values:\n",
    "    \n",
    "    1. Employment Type\n",
    "    2. Graduate or Not\n",
    "    3. Frequent Flyer\n",
    "    4. Ever Travelled Abroad"
   ]
  },
  {
   "cell_type": "code",
   "execution_count": 4,
   "id": "c68d92ce",
   "metadata": {},
   "outputs": [],
   "source": [
    "from sklearn.preprocessing import LabelEncoder"
   ]
  },
  {
   "cell_type": "markdown",
   "id": "7a6ffdcc",
   "metadata": {},
   "source": [
    "Encode the employment column"
   ]
  },
  {
   "cell_type": "code",
   "execution_count": 5,
   "id": "099ce78a",
   "metadata": {},
   "outputs": [],
   "source": [
    "Employment_encode = LabelEncoder()"
   ]
  },
  {
   "cell_type": "code",
   "execution_count": 6,
   "id": "4d06860c",
   "metadata": {},
   "outputs": [],
   "source": [
    "df['Employment Type'] = Employment_encode.fit_transform(df['Employment Type'])"
   ]
  },
  {
   "cell_type": "markdown",
   "id": "b743eefb",
   "metadata": {},
   "source": [
    "Encode the graduate column"
   ]
  },
  {
   "cell_type": "code",
   "execution_count": 7,
   "id": "1b4e2619",
   "metadata": {},
   "outputs": [],
   "source": [
    "graduate_encode = LabelEncoder()"
   ]
  },
  {
   "cell_type": "code",
   "execution_count": 8,
   "id": "d96354a4",
   "metadata": {},
   "outputs": [],
   "source": [
    "df['GraduateOrNot'] = graduate_encode.fit_transform(df['GraduateOrNot'])"
   ]
  },
  {
   "cell_type": "markdown",
   "id": "c8f93f05",
   "metadata": {},
   "source": [
    "Encode the Frequent flyer column"
   ]
  },
  {
   "cell_type": "code",
   "execution_count": 9,
   "id": "c8121d6f",
   "metadata": {},
   "outputs": [],
   "source": [
    "frequent_encode = LabelEncoder()"
   ]
  },
  {
   "cell_type": "code",
   "execution_count": 10,
   "id": "37aad4c9",
   "metadata": {},
   "outputs": [],
   "source": [
    "df['FrequentFlyer'] = frequent_encode.fit_transform(df['FrequentFlyer'])"
   ]
  },
  {
   "cell_type": "markdown",
   "id": "8eca7ab7",
   "metadata": {},
   "source": [
    "Encode the Ever travelled abroad column"
   ]
  },
  {
   "cell_type": "code",
   "execution_count": 11,
   "id": "c60a0ba5",
   "metadata": {},
   "outputs": [],
   "source": [
    "travel_encode = LabelEncoder()"
   ]
  },
  {
   "cell_type": "code",
   "execution_count": 12,
   "id": "9213b5c2",
   "metadata": {},
   "outputs": [],
   "source": [
    "df['EverTravelledAbroad'] = travel_encode.fit_transform(df['EverTravelledAbroad'])"
   ]
  },
  {
   "cell_type": "code",
   "execution_count": 57,
   "id": "1318fe5e",
   "metadata": {},
   "outputs": [
    {
     "name": "stdout",
     "output_type": "stream",
     "text": [
      "0       0\n",
      "1       1\n",
      "2       1\n",
      "3       1\n",
      "4       1\n",
      "       ..\n",
      "1982    1\n",
      "1983    1\n",
      "1984    1\n",
      "1985    1\n",
      "1986    1\n",
      "Name: Employment Type, Length: 1987, dtype: int32\n"
     ]
    }
   ],
   "source": [
    "print(df['Employment Type'])"
   ]
  },
  {
   "cell_type": "markdown",
   "id": "efb3f97e",
   "metadata": {},
   "source": [
    "### Display the info of the dataset\n",
    "\n",
    "This is to:\n",
    "\n",
    "    check our datasets\n",
    "    to show our columns,\n",
    "    Non-Null count values\n",
    "    Datatype"
   ]
  },
  {
   "cell_type": "code",
   "execution_count": 13,
   "id": "bad7fc10",
   "metadata": {},
   "outputs": [],
   "source": [
    "df1 = df.drop('Unnamed: 0', axis=1)"
   ]
  },
  {
   "cell_type": "code",
   "execution_count": 14,
   "id": "da4fa836",
   "metadata": {},
   "outputs": [
    {
     "name": "stdout",
     "output_type": "stream",
     "text": [
      "<class 'pandas.core.frame.DataFrame'>\n",
      "RangeIndex: 1987 entries, 0 to 1986\n",
      "Data columns (total 9 columns):\n",
      " #   Column               Non-Null Count  Dtype\n",
      "---  ------               --------------  -----\n",
      " 0   Age                  1987 non-null   int64\n",
      " 1   Employment Type      1987 non-null   int32\n",
      " 2   GraduateOrNot        1987 non-null   int32\n",
      " 3   AnnualIncome         1987 non-null   int64\n",
      " 4   FamilyMembers        1987 non-null   int64\n",
      " 5   ChronicDiseases      1987 non-null   int64\n",
      " 6   FrequentFlyer        1987 non-null   int32\n",
      " 7   EverTravelledAbroad  1987 non-null   int32\n",
      " 8   TravelInsurance      1987 non-null   int64\n",
      "dtypes: int32(4), int64(5)\n",
      "memory usage: 108.8 KB\n"
     ]
    }
   ],
   "source": [
    "df1.info()"
   ]
  },
  {
   "cell_type": "markdown",
   "id": "170218d1",
   "metadata": {},
   "source": [
    "### DESCRIBE THE DATASETS\n",
    "\n",
    "Values described include: \n",
    "\n",
    "    count\n",
    "    mean\n",
    "    standard deviation\n",
    "    min\n",
    "    25%\n",
    "    50%\n",
    "    75%\n",
    "    max"
   ]
  },
  {
   "cell_type": "code",
   "execution_count": 15,
   "id": "766122d4",
   "metadata": {},
   "outputs": [
    {
     "data": {
      "text/html": [
       "<div>\n",
       "<style scoped>\n",
       "    .dataframe tbody tr th:only-of-type {\n",
       "        vertical-align: middle;\n",
       "    }\n",
       "\n",
       "    .dataframe tbody tr th {\n",
       "        vertical-align: top;\n",
       "    }\n",
       "\n",
       "    .dataframe thead th {\n",
       "        text-align: right;\n",
       "    }\n",
       "</style>\n",
       "<table border=\"1\" class=\"dataframe\">\n",
       "  <thead>\n",
       "    <tr style=\"text-align: right;\">\n",
       "      <th></th>\n",
       "      <th>Age</th>\n",
       "      <th>Employment Type</th>\n",
       "      <th>GraduateOrNot</th>\n",
       "      <th>AnnualIncome</th>\n",
       "      <th>FamilyMembers</th>\n",
       "      <th>ChronicDiseases</th>\n",
       "      <th>FrequentFlyer</th>\n",
       "      <th>EverTravelledAbroad</th>\n",
       "      <th>TravelInsurance</th>\n",
       "    </tr>\n",
       "  </thead>\n",
       "  <tbody>\n",
       "    <tr>\n",
       "      <th>count</th>\n",
       "      <td>1987.000000</td>\n",
       "      <td>1987.000000</td>\n",
       "      <td>1987.000000</td>\n",
       "      <td>1.987000e+03</td>\n",
       "      <td>1987.000000</td>\n",
       "      <td>1987.000000</td>\n",
       "      <td>1987.000000</td>\n",
       "      <td>1987.000000</td>\n",
       "      <td>1987.000000</td>\n",
       "    </tr>\n",
       "    <tr>\n",
       "      <th>mean</th>\n",
       "      <td>29.650226</td>\n",
       "      <td>0.713135</td>\n",
       "      <td>0.851535</td>\n",
       "      <td>9.327630e+05</td>\n",
       "      <td>4.752894</td>\n",
       "      <td>0.277806</td>\n",
       "      <td>0.209864</td>\n",
       "      <td>0.191243</td>\n",
       "      <td>0.357323</td>\n",
       "    </tr>\n",
       "    <tr>\n",
       "      <th>std</th>\n",
       "      <td>2.913308</td>\n",
       "      <td>0.452412</td>\n",
       "      <td>0.355650</td>\n",
       "      <td>3.768557e+05</td>\n",
       "      <td>1.609650</td>\n",
       "      <td>0.448030</td>\n",
       "      <td>0.407314</td>\n",
       "      <td>0.393379</td>\n",
       "      <td>0.479332</td>\n",
       "    </tr>\n",
       "    <tr>\n",
       "      <th>min</th>\n",
       "      <td>25.000000</td>\n",
       "      <td>0.000000</td>\n",
       "      <td>0.000000</td>\n",
       "      <td>3.000000e+05</td>\n",
       "      <td>2.000000</td>\n",
       "      <td>0.000000</td>\n",
       "      <td>0.000000</td>\n",
       "      <td>0.000000</td>\n",
       "      <td>0.000000</td>\n",
       "    </tr>\n",
       "    <tr>\n",
       "      <th>25%</th>\n",
       "      <td>28.000000</td>\n",
       "      <td>0.000000</td>\n",
       "      <td>1.000000</td>\n",
       "      <td>6.000000e+05</td>\n",
       "      <td>4.000000</td>\n",
       "      <td>0.000000</td>\n",
       "      <td>0.000000</td>\n",
       "      <td>0.000000</td>\n",
       "      <td>0.000000</td>\n",
       "    </tr>\n",
       "    <tr>\n",
       "      <th>50%</th>\n",
       "      <td>29.000000</td>\n",
       "      <td>1.000000</td>\n",
       "      <td>1.000000</td>\n",
       "      <td>9.000000e+05</td>\n",
       "      <td>5.000000</td>\n",
       "      <td>0.000000</td>\n",
       "      <td>0.000000</td>\n",
       "      <td>0.000000</td>\n",
       "      <td>0.000000</td>\n",
       "    </tr>\n",
       "    <tr>\n",
       "      <th>75%</th>\n",
       "      <td>32.000000</td>\n",
       "      <td>1.000000</td>\n",
       "      <td>1.000000</td>\n",
       "      <td>1.250000e+06</td>\n",
       "      <td>6.000000</td>\n",
       "      <td>1.000000</td>\n",
       "      <td>0.000000</td>\n",
       "      <td>0.000000</td>\n",
       "      <td>1.000000</td>\n",
       "    </tr>\n",
       "    <tr>\n",
       "      <th>max</th>\n",
       "      <td>35.000000</td>\n",
       "      <td>1.000000</td>\n",
       "      <td>1.000000</td>\n",
       "      <td>1.800000e+06</td>\n",
       "      <td>9.000000</td>\n",
       "      <td>1.000000</td>\n",
       "      <td>1.000000</td>\n",
       "      <td>1.000000</td>\n",
       "      <td>1.000000</td>\n",
       "    </tr>\n",
       "  </tbody>\n",
       "</table>\n",
       "</div>"
      ],
      "text/plain": [
       "               Age  Employment Type  GraduateOrNot  AnnualIncome  \\\n",
       "count  1987.000000      1987.000000    1987.000000  1.987000e+03   \n",
       "mean     29.650226         0.713135       0.851535  9.327630e+05   \n",
       "std       2.913308         0.452412       0.355650  3.768557e+05   \n",
       "min      25.000000         0.000000       0.000000  3.000000e+05   \n",
       "25%      28.000000         0.000000       1.000000  6.000000e+05   \n",
       "50%      29.000000         1.000000       1.000000  9.000000e+05   \n",
       "75%      32.000000         1.000000       1.000000  1.250000e+06   \n",
       "max      35.000000         1.000000       1.000000  1.800000e+06   \n",
       "\n",
       "       FamilyMembers  ChronicDiseases  FrequentFlyer  EverTravelledAbroad  \\\n",
       "count    1987.000000      1987.000000    1987.000000          1987.000000   \n",
       "mean        4.752894         0.277806       0.209864             0.191243   \n",
       "std         1.609650         0.448030       0.407314             0.393379   \n",
       "min         2.000000         0.000000       0.000000             0.000000   \n",
       "25%         4.000000         0.000000       0.000000             0.000000   \n",
       "50%         5.000000         0.000000       0.000000             0.000000   \n",
       "75%         6.000000         1.000000       0.000000             0.000000   \n",
       "max         9.000000         1.000000       1.000000             1.000000   \n",
       "\n",
       "       TravelInsurance  \n",
       "count      1987.000000  \n",
       "mean          0.357323  \n",
       "std           0.479332  \n",
       "min           0.000000  \n",
       "25%           0.000000  \n",
       "50%           0.000000  \n",
       "75%           1.000000  \n",
       "max           1.000000  "
      ]
     },
     "execution_count": 15,
     "metadata": {},
     "output_type": "execute_result"
    }
   ],
   "source": [
    "df1.describe()"
   ]
  },
  {
   "cell_type": "markdown",
   "id": "f3168f94",
   "metadata": {},
   "source": [
    "### CHECK FOR NULL VALUES IN THE DATASETS"
   ]
  },
  {
   "cell_type": "code",
   "execution_count": 16,
   "id": "f9f8ce78",
   "metadata": {},
   "outputs": [
    {
     "data": {
      "text/plain": [
       "Age                    0\n",
       "Employment Type        0\n",
       "GraduateOrNot          0\n",
       "AnnualIncome           0\n",
       "FamilyMembers          0\n",
       "ChronicDiseases        0\n",
       "FrequentFlyer          0\n",
       "EverTravelledAbroad    0\n",
       "TravelInsurance        0\n",
       "dtype: int64"
      ]
     },
     "execution_count": 16,
     "metadata": {},
     "output_type": "execute_result"
    }
   ],
   "source": [
    "df1.isnull().sum()"
   ]
  },
  {
   "cell_type": "markdown",
   "id": "9443600e",
   "metadata": {},
   "source": [
    "### CHECKING THE UNIQUENESS OF THE DATASET\n",
    "\n",
    "This is to check the uniqness of our data, i.e to see the number of the categorical data"
   ]
  },
  {
   "cell_type": "code",
   "execution_count": 17,
   "id": "bef67894",
   "metadata": {},
   "outputs": [
    {
     "data": {
      "text/plain": [
       "Age                    11\n",
       "Employment Type         2\n",
       "GraduateOrNot           2\n",
       "AnnualIncome           30\n",
       "FamilyMembers           8\n",
       "ChronicDiseases         2\n",
       "FrequentFlyer           2\n",
       "EverTravelledAbroad     2\n",
       "TravelInsurance         2\n",
       "dtype: int64"
      ]
     },
     "execution_count": 17,
     "metadata": {},
     "output_type": "execute_result"
    }
   ],
   "source": [
    "df1.nunique()"
   ]
  },
  {
   "cell_type": "markdown",
   "id": "80ab7978",
   "metadata": {},
   "source": [
    "### CHECK FOR CORRELATIONS\n",
    "\n",
    "Correlations between numerical datasets to see how correlated they are to each other, correlation ranges from -1 to 0 to 1\n",
    "\n",
    "The following is observed:\n",
    "\n",
    "    1. Ever Travelled Abroad and Annual Income have a positive correlation of 0.48\n",
    "    2. Annual Income and Employment have a positive correlation of 0.34\n",
    "    3. Frequent Flyer and Annual Incomme have a correlation of 0.35\n",
    "\n",
    "Note: Only the categories with the strongest correlations are observed, from the analysis it can be pointed out that Annual Income is positively correlated with Ever Travelled Abroad, Employment Type and Frequent Flyer. Which makes it a very important part of our analytical process.\n",
    "    \n"
   ]
  },
  {
   "cell_type": "code",
   "execution_count": 18,
   "id": "3bf71ba6",
   "metadata": {},
   "outputs": [
    {
     "data": {
      "text/html": [
       "<div>\n",
       "<style scoped>\n",
       "    .dataframe tbody tr th:only-of-type {\n",
       "        vertical-align: middle;\n",
       "    }\n",
       "\n",
       "    .dataframe tbody tr th {\n",
       "        vertical-align: top;\n",
       "    }\n",
       "\n",
       "    .dataframe thead th {\n",
       "        text-align: right;\n",
       "    }\n",
       "</style>\n",
       "<table border=\"1\" class=\"dataframe\">\n",
       "  <thead>\n",
       "    <tr style=\"text-align: right;\">\n",
       "      <th></th>\n",
       "      <th>Age</th>\n",
       "      <th>Employment Type</th>\n",
       "      <th>GraduateOrNot</th>\n",
       "      <th>AnnualIncome</th>\n",
       "      <th>FamilyMembers</th>\n",
       "      <th>ChronicDiseases</th>\n",
       "      <th>FrequentFlyer</th>\n",
       "      <th>EverTravelledAbroad</th>\n",
       "      <th>TravelInsurance</th>\n",
       "    </tr>\n",
       "  </thead>\n",
       "  <tbody>\n",
       "    <tr>\n",
       "      <th>Age</th>\n",
       "      <td>1.000000</td>\n",
       "      <td>-0.115134</td>\n",
       "      <td>0.027125</td>\n",
       "      <td>-0.020101</td>\n",
       "      <td>0.027409</td>\n",
       "      <td>0.007359</td>\n",
       "      <td>-0.033159</td>\n",
       "      <td>-0.012779</td>\n",
       "      <td>0.061060</td>\n",
       "    </tr>\n",
       "    <tr>\n",
       "      <th>Employment Type</th>\n",
       "      <td>-0.115134</td>\n",
       "      <td>1.000000</td>\n",
       "      <td>-0.127133</td>\n",
       "      <td>0.349157</td>\n",
       "      <td>-0.003354</td>\n",
       "      <td>-0.011553</td>\n",
       "      <td>0.143790</td>\n",
       "      <td>0.181098</td>\n",
       "      <td>0.147847</td>\n",
       "    </tr>\n",
       "    <tr>\n",
       "      <th>GraduateOrNot</th>\n",
       "      <td>0.027125</td>\n",
       "      <td>-0.127133</td>\n",
       "      <td>1.000000</td>\n",
       "      <td>0.108066</td>\n",
       "      <td>0.021201</td>\n",
       "      <td>0.018811</td>\n",
       "      <td>-0.028120</td>\n",
       "      <td>0.062683</td>\n",
       "      <td>0.018934</td>\n",
       "    </tr>\n",
       "    <tr>\n",
       "      <th>AnnualIncome</th>\n",
       "      <td>-0.020101</td>\n",
       "      <td>0.349157</td>\n",
       "      <td>0.108066</td>\n",
       "      <td>1.000000</td>\n",
       "      <td>-0.015367</td>\n",
       "      <td>-0.001149</td>\n",
       "      <td>0.353087</td>\n",
       "      <td>0.486043</td>\n",
       "      <td>0.396763</td>\n",
       "    </tr>\n",
       "    <tr>\n",
       "      <th>FamilyMembers</th>\n",
       "      <td>0.027409</td>\n",
       "      <td>-0.003354</td>\n",
       "      <td>0.021201</td>\n",
       "      <td>-0.015367</td>\n",
       "      <td>1.000000</td>\n",
       "      <td>0.028209</td>\n",
       "      <td>-0.023775</td>\n",
       "      <td>-0.020755</td>\n",
       "      <td>0.079909</td>\n",
       "    </tr>\n",
       "    <tr>\n",
       "      <th>ChronicDiseases</th>\n",
       "      <td>0.007359</td>\n",
       "      <td>-0.011553</td>\n",
       "      <td>0.018811</td>\n",
       "      <td>-0.001149</td>\n",
       "      <td>0.028209</td>\n",
       "      <td>1.000000</td>\n",
       "      <td>-0.043720</td>\n",
       "      <td>0.021238</td>\n",
       "      <td>0.018190</td>\n",
       "    </tr>\n",
       "    <tr>\n",
       "      <th>FrequentFlyer</th>\n",
       "      <td>-0.033159</td>\n",
       "      <td>0.143790</td>\n",
       "      <td>-0.028120</td>\n",
       "      <td>0.353087</td>\n",
       "      <td>-0.023775</td>\n",
       "      <td>-0.043720</td>\n",
       "      <td>1.000000</td>\n",
       "      <td>0.277334</td>\n",
       "      <td>0.232103</td>\n",
       "    </tr>\n",
       "    <tr>\n",
       "      <th>EverTravelledAbroad</th>\n",
       "      <td>-0.012779</td>\n",
       "      <td>0.181098</td>\n",
       "      <td>0.062683</td>\n",
       "      <td>0.486043</td>\n",
       "      <td>-0.020755</td>\n",
       "      <td>0.021238</td>\n",
       "      <td>0.277334</td>\n",
       "      <td>1.000000</td>\n",
       "      <td>0.433183</td>\n",
       "    </tr>\n",
       "    <tr>\n",
       "      <th>TravelInsurance</th>\n",
       "      <td>0.061060</td>\n",
       "      <td>0.147847</td>\n",
       "      <td>0.018934</td>\n",
       "      <td>0.396763</td>\n",
       "      <td>0.079909</td>\n",
       "      <td>0.018190</td>\n",
       "      <td>0.232103</td>\n",
       "      <td>0.433183</td>\n",
       "      <td>1.000000</td>\n",
       "    </tr>\n",
       "  </tbody>\n",
       "</table>\n",
       "</div>"
      ],
      "text/plain": [
       "                          Age  Employment Type  GraduateOrNot  AnnualIncome  \\\n",
       "Age                  1.000000        -0.115134       0.027125     -0.020101   \n",
       "Employment Type     -0.115134         1.000000      -0.127133      0.349157   \n",
       "GraduateOrNot        0.027125        -0.127133       1.000000      0.108066   \n",
       "AnnualIncome        -0.020101         0.349157       0.108066      1.000000   \n",
       "FamilyMembers        0.027409        -0.003354       0.021201     -0.015367   \n",
       "ChronicDiseases      0.007359        -0.011553       0.018811     -0.001149   \n",
       "FrequentFlyer       -0.033159         0.143790      -0.028120      0.353087   \n",
       "EverTravelledAbroad -0.012779         0.181098       0.062683      0.486043   \n",
       "TravelInsurance      0.061060         0.147847       0.018934      0.396763   \n",
       "\n",
       "                     FamilyMembers  ChronicDiseases  FrequentFlyer  \\\n",
       "Age                       0.027409         0.007359      -0.033159   \n",
       "Employment Type          -0.003354        -0.011553       0.143790   \n",
       "GraduateOrNot             0.021201         0.018811      -0.028120   \n",
       "AnnualIncome             -0.015367        -0.001149       0.353087   \n",
       "FamilyMembers             1.000000         0.028209      -0.023775   \n",
       "ChronicDiseases           0.028209         1.000000      -0.043720   \n",
       "FrequentFlyer            -0.023775        -0.043720       1.000000   \n",
       "EverTravelledAbroad      -0.020755         0.021238       0.277334   \n",
       "TravelInsurance           0.079909         0.018190       0.232103   \n",
       "\n",
       "                     EverTravelledAbroad  TravelInsurance  \n",
       "Age                            -0.012779         0.061060  \n",
       "Employment Type                 0.181098         0.147847  \n",
       "GraduateOrNot                   0.062683         0.018934  \n",
       "AnnualIncome                    0.486043         0.396763  \n",
       "FamilyMembers                  -0.020755         0.079909  \n",
       "ChronicDiseases                 0.021238         0.018190  \n",
       "FrequentFlyer                   0.277334         0.232103  \n",
       "EverTravelledAbroad             1.000000         0.433183  \n",
       "TravelInsurance                 0.433183         1.000000  "
      ]
     },
     "execution_count": 18,
     "metadata": {},
     "output_type": "execute_result"
    }
   ],
   "source": [
    "df1.corr()"
   ]
  },
  {
   "cell_type": "markdown",
   "id": "3ac5d6d2",
   "metadata": {},
   "source": [
    "### VISUALIZE THE CORRELATION TO GAIN MORE INSIGHTS FROM THE DATA\n",
    "##### we plot a heatmap here to see how correlated they are to eachother and to get a proper visualization of their correlation"
   ]
  },
  {
   "cell_type": "code",
   "execution_count": 19,
   "id": "b9beb48d",
   "metadata": {},
   "outputs": [
    {
     "data": {
      "image/png": "[encoded data removed]",
      "text/plain": [
       "<Figure size 1440x720 with 2 Axes>"
      ]
     },
     "metadata": {
      "needs_background": "light"
     },
     "output_type": "display_data"
    }
   ],
   "source": [
    "plt.figure(figsize=(20,10))\n",
    "sns.heatmap(df1.corr(), annot=True)\n",
    "plt.show()"
   ]
  },
  {
   "cell_type": "code",
   "execution_count": 20,
   "id": "21dba22a",
   "metadata": {},
   "outputs": [
    {
     "data": {
      "text/plain": [
       "<seaborn.axisgrid.PairGrid at 0x24f6822dd00>"
      ]
     },
     "execution_count": 20,
     "metadata": {},
     "output_type": "execute_result"
    },
    {
     "data": {
      "image/png": "[encoded data removed]",
      "text/plain": [
       "<Figure size 1620x1620 with 90 Axes>"
      ]
     },
     "metadata": {
      "needs_background": "light"
     },
     "output_type": "display_data"
    }
   ],
   "source": [
    "sns.pairplot(df1)"
   ]
  },
  {
   "cell_type": "code",
   "execution_count": 21,
   "id": "c3bdfdd8",
   "metadata": {},
   "outputs": [
    {
     "data": {
      "text/html": [
       "<div>\n",
       "<style scoped>\n",
       "    .dataframe tbody tr th:only-of-type {\n",
       "        vertical-align: middle;\n",
       "    }\n",
       "\n",
       "    .dataframe tbody tr th {\n",
       "        vertical-align: top;\n",
       "    }\n",
       "\n",
       "    .dataframe thead th {\n",
       "        text-align: right;\n",
       "    }\n",
       "</style>\n",
       "<table border=\"1\" class=\"dataframe\">\n",
       "  <thead>\n",
       "    <tr style=\"text-align: right;\">\n",
       "      <th></th>\n",
       "      <th>Age</th>\n",
       "      <th>Employment Type</th>\n",
       "      <th>GraduateOrNot</th>\n",
       "      <th>AnnualIncome</th>\n",
       "      <th>FamilyMembers</th>\n",
       "      <th>ChronicDiseases</th>\n",
       "      <th>FrequentFlyer</th>\n",
       "      <th>EverTravelledAbroad</th>\n",
       "      <th>TravelInsurance</th>\n",
       "    </tr>\n",
       "  </thead>\n",
       "  <tbody>\n",
       "    <tr>\n",
       "      <th>0</th>\n",
       "      <td>31</td>\n",
       "      <td>0</td>\n",
       "      <td>1</td>\n",
       "      <td>400000</td>\n",
       "      <td>6</td>\n",
       "      <td>1</td>\n",
       "      <td>0</td>\n",
       "      <td>0</td>\n",
       "      <td>0</td>\n",
       "    </tr>\n",
       "    <tr>\n",
       "      <th>1</th>\n",
       "      <td>31</td>\n",
       "      <td>1</td>\n",
       "      <td>1</td>\n",
       "      <td>1250000</td>\n",
       "      <td>7</td>\n",
       "      <td>0</td>\n",
       "      <td>0</td>\n",
       "      <td>0</td>\n",
       "      <td>0</td>\n",
       "    </tr>\n",
       "    <tr>\n",
       "      <th>2</th>\n",
       "      <td>34</td>\n",
       "      <td>1</td>\n",
       "      <td>1</td>\n",
       "      <td>500000</td>\n",
       "      <td>4</td>\n",
       "      <td>1</td>\n",
       "      <td>0</td>\n",
       "      <td>0</td>\n",
       "      <td>1</td>\n",
       "    </tr>\n",
       "    <tr>\n",
       "      <th>3</th>\n",
       "      <td>28</td>\n",
       "      <td>1</td>\n",
       "      <td>1</td>\n",
       "      <td>700000</td>\n",
       "      <td>3</td>\n",
       "      <td>1</td>\n",
       "      <td>0</td>\n",
       "      <td>0</td>\n",
       "      <td>0</td>\n",
       "    </tr>\n",
       "    <tr>\n",
       "      <th>4</th>\n",
       "      <td>28</td>\n",
       "      <td>1</td>\n",
       "      <td>1</td>\n",
       "      <td>700000</td>\n",
       "      <td>8</td>\n",
       "      <td>1</td>\n",
       "      <td>1</td>\n",
       "      <td>0</td>\n",
       "      <td>0</td>\n",
       "    </tr>\n",
       "    <tr>\n",
       "      <th>...</th>\n",
       "      <td>...</td>\n",
       "      <td>...</td>\n",
       "      <td>...</td>\n",
       "      <td>...</td>\n",
       "      <td>...</td>\n",
       "      <td>...</td>\n",
       "      <td>...</td>\n",
       "      <td>...</td>\n",
       "      <td>...</td>\n",
       "    </tr>\n",
       "    <tr>\n",
       "      <th>1982</th>\n",
       "      <td>33</td>\n",
       "      <td>1</td>\n",
       "      <td>1</td>\n",
       "      <td>1500000</td>\n",
       "      <td>4</td>\n",
       "      <td>0</td>\n",
       "      <td>1</td>\n",
       "      <td>1</td>\n",
       "      <td>1</td>\n",
       "    </tr>\n",
       "    <tr>\n",
       "      <th>1983</th>\n",
       "      <td>28</td>\n",
       "      <td>1</td>\n",
       "      <td>1</td>\n",
       "      <td>1750000</td>\n",
       "      <td>5</td>\n",
       "      <td>1</td>\n",
       "      <td>0</td>\n",
       "      <td>1</td>\n",
       "      <td>0</td>\n",
       "    </tr>\n",
       "    <tr>\n",
       "      <th>1984</th>\n",
       "      <td>28</td>\n",
       "      <td>1</td>\n",
       "      <td>1</td>\n",
       "      <td>1150000</td>\n",
       "      <td>6</td>\n",
       "      <td>1</td>\n",
       "      <td>0</td>\n",
       "      <td>0</td>\n",
       "      <td>0</td>\n",
       "    </tr>\n",
       "    <tr>\n",
       "      <th>1985</th>\n",
       "      <td>34</td>\n",
       "      <td>1</td>\n",
       "      <td>1</td>\n",
       "      <td>1000000</td>\n",
       "      <td>6</td>\n",
       "      <td>0</td>\n",
       "      <td>1</td>\n",
       "      <td>1</td>\n",
       "      <td>1</td>\n",
       "    </tr>\n",
       "    <tr>\n",
       "      <th>1986</th>\n",
       "      <td>34</td>\n",
       "      <td>1</td>\n",
       "      <td>1</td>\n",
       "      <td>500000</td>\n",
       "      <td>4</td>\n",
       "      <td>0</td>\n",
       "      <td>0</td>\n",
       "      <td>0</td>\n",
       "      <td>0</td>\n",
       "    </tr>\n",
       "  </tbody>\n",
       "</table>\n",
       "<p>1987 rows × 9 columns</p>\n",
       "</div>"
      ],
      "text/plain": [
       "      Age  Employment Type  GraduateOrNot  AnnualIncome  FamilyMembers  \\\n",
       "0      31                0              1        400000              6   \n",
       "1      31                1              1       1250000              7   \n",
       "2      34                1              1        500000              4   \n",
       "3      28                1              1        700000              3   \n",
       "4      28                1              1        700000              8   \n",
       "...   ...              ...            ...           ...            ...   \n",
       "1982   33                1              1       1500000              4   \n",
       "1983   28                1              1       1750000              5   \n",
       "1984   28                1              1       1150000              6   \n",
       "1985   34                1              1       1000000              6   \n",
       "1986   34                1              1        500000              4   \n",
       "\n",
       "      ChronicDiseases  FrequentFlyer  EverTravelledAbroad  TravelInsurance  \n",
       "0                   1              0                    0                0  \n",
       "1                   0              0                    0                0  \n",
       "2                   1              0                    0                1  \n",
       "3                   1              0                    0                0  \n",
       "4                   1              1                    0                0  \n",
       "...               ...            ...                  ...              ...  \n",
       "1982                0              1                    1                1  \n",
       "1983                1              0                    1                0  \n",
       "1984                1              0                    0                0  \n",
       "1985                0              1                    1                1  \n",
       "1986                0              0                    0                0  \n",
       "\n",
       "[1987 rows x 9 columns]"
      ]
     },
     "execution_count": 21,
     "metadata": {},
     "output_type": "execute_result"
    }
   ],
   "source": [
    "df1"
   ]
  },
  {
   "cell_type": "markdown",
   "id": "ef87763c",
   "metadata": {},
   "source": [
    "### VISUALIIZING OUR DATA\n",
    "\n",
    "The dataset is visualized to gain a better insigts to what we are dealing with here"
   ]
  },
  {
   "cell_type": "code",
   "execution_count": 22,
   "id": "5176836e",
   "metadata": {},
   "outputs": [
    {
     "data": {
      "image/png": "[encoded data removed]",
      "text/plain": [
       "<Figure size 1440x1080 with 9 Axes>"
      ]
     },
     "metadata": {
      "needs_background": "light"
     },
     "output_type": "display_data"
    }
   ],
   "source": [
    "df1.hist(bins=50,figsize=(20,15))\n",
    "plt.show()"
   ]
  },
  {
   "cell_type": "markdown",
   "id": "8764f458",
   "metadata": {},
   "source": [
    "From the Piechart plot below, we deduce that 71.31 percent people in this dataset work for private companies, 28 percent work for the government"
   ]
  },
  {
   "cell_type": "code",
   "execution_count": 23,
   "id": "8a28a430",
   "metadata": {},
   "outputs": [
    {
     "data": {
      "text/plain": [
       "<AxesSubplot:ylabel='Employment Type'>"
      ]
     },
     "execution_count": 23,
     "metadata": {},
     "output_type": "execute_result"
    },
    {
     "data": {
      "image/png": "[encoded data removed]",
      "text/plain": [
       "<Figure size 432x288 with 1 Axes>"
      ]
     },
     "metadata": {},
     "output_type": "display_data"
    }
   ],
   "source": [
    "df['Employment Type'].value_counts().plot(kind='pie', explode=[0, 0], labels=['private','government'],autopct='%1.2f%%')"
   ]
  },
  {
   "cell_type": "markdown",
   "id": "34be38f0",
   "metadata": {},
   "source": [
    "From the plot here 85 percent of the customers here are Graduates, 14 percent are not graduates"
   ]
  },
  {
   "cell_type": "code",
   "execution_count": 24,
   "id": "9b002640",
   "metadata": {},
   "outputs": [
    {
     "data": {
      "text/plain": [
       "<AxesSubplot:ylabel='GraduateOrNot'>"
      ]
     },
     "execution_count": 24,
     "metadata": {},
     "output_type": "execute_result"
    },
    {
     "data": {
      "image/png": "[encoded data removed]",
      "text/plain": [
       "<Figure size 432x288 with 1 Axes>"
      ]
     },
     "metadata": {},
     "output_type": "display_data"
    }
   ],
   "source": [
    "df['GraduateOrNot'].value_counts().plot(kind='pie', explode=[0, 0], labels=['Graduate','non graduate'],autopct='%1.2f%%')"
   ]
  },
  {
   "cell_type": "code",
   "execution_count": 25,
   "id": "847e7acc",
   "metadata": {},
   "outputs": [
    {
     "data": {
      "text/plain": [
       "<AxesSubplot:ylabel='FrequentFlyer'>"
      ]
     },
     "execution_count": 25,
     "metadata": {},
     "output_type": "execute_result"
    },
    {
     "data": {
      "image/png": "[encoded data removed]",
      "text/plain": [
       "<Figure size 432x288 with 1 Axes>"
      ]
     },
     "metadata": {},
     "output_type": "display_data"
    }
   ],
   "source": [
    "df['FrequentFlyer'].value_counts().plot(kind='pie', explode=[0, 0], labels=['private','government'],autopct='%1.2f%%')"
   ]
  },
  {
   "cell_type": "code",
   "execution_count": 26,
   "id": "aa76b342",
   "metadata": {},
   "outputs": [
    {
     "data": {
      "text/plain": [
       "<AxesSubplot:ylabel='EverTravelledAbroad'>"
      ]
     },
     "execution_count": 26,
     "metadata": {},
     "output_type": "execute_result"
    },
    {
     "data": {
      "image/png": "[encoded data removed]",
      "text/plain": [
       "<Figure size 432x288 with 1 Axes>"
      ]
     },
     "metadata": {},
     "output_type": "display_data"
    }
   ],
   "source": [
    "df['EverTravelledAbroad'].value_counts().plot(kind='pie', explode=[0, 0], labels=['Never Travelled','Travelled'],autopct='%1.2f%%')"
   ]
  },
  {
   "cell_type": "code",
   "execution_count": 27,
   "id": "70f95f16",
   "metadata": {},
   "outputs": [
    {
     "data": {
      "text/plain": [
       "<AxesSubplot:ylabel='ChronicDiseases'>"
      ]
     },
     "execution_count": 27,
     "metadata": {},
     "output_type": "execute_result"
    },
    {
     "data": {
      "image/png": "[encoded data removed]",
      "text/plain": [
       "<Figure size 432x288 with 1 Axes>"
      ]
     },
     "metadata": {},
     "output_type": "display_data"
    }
   ],
   "source": [
    "df['ChronicDiseases'].value_counts().plot(kind='pie', explode=[0, 0], labels=['No Chronic diseases','chronic diseases'],autopct='%1.2f%%')"
   ]
  },
  {
   "cell_type": "markdown",
   "id": "27944387",
   "metadata": {},
   "source": [
    "# FROM THE PLOTS WE MADE ABOVE WE OBSERVED THE FOLLOWING:\n",
    "##### 1. 28 seems to be the most frequent age in the datasets \n",
    "##### 2. 72.22 percent of the people in the dataset do not have chronicdiseases\n",
    "##### 3. only 19.12 percent have travelled abroad"
   ]
  },
  {
   "cell_type": "markdown",
   "id": "32f18e7d",
   "metadata": {},
   "source": [
    "### BUILDING THE MACHINE LEARNING MODEL"
   ]
  },
  {
   "cell_type": "code",
   "execution_count": 28,
   "id": "0f66a81b",
   "metadata": {},
   "outputs": [
    {
     "data": {
      "text/plain": [
       "['Age',\n",
       " 'Employment Type',\n",
       " 'GraduateOrNot',\n",
       " 'AnnualIncome',\n",
       " 'FamilyMembers',\n",
       " 'ChronicDiseases',\n",
       " 'FrequentFlyer',\n",
       " 'EverTravelledAbroad',\n",
       " 'TravelInsurance']"
      ]
     },
     "execution_count": 28,
     "metadata": {},
     "output_type": "execute_result"
    }
   ],
   "source": [
    "list(df1)"
   ]
  },
  {
   "cell_type": "code",
   "execution_count": 29,
   "id": "ddbbe9d8",
   "metadata": {},
   "outputs": [],
   "source": [
    "from sklearn.model_selection import train_test_split"
   ]
  },
  {
   "cell_type": "code",
   "execution_count": 30,
   "id": "92a46776",
   "metadata": {},
   "outputs": [],
   "source": [
    "x = df[['Age','Employment Type','GraduateOrNot','AnnualIncome','FamilyMembers','ChronicDiseases','FrequentFlyer','EverTravelledAbroad',]]\n",
    "y = df['TravelInsurance']"
   ]
  },
  {
   "cell_type": "code",
   "execution_count": 31,
   "id": "513dbfa4",
   "metadata": {},
   "outputs": [],
   "source": [
    "x_train, x_test, y_train, y_test= train_test_split(x, y, test_size=0.1)"
   ]
  },
  {
   "cell_type": "code",
   "execution_count": 32,
   "id": "48a19c0a",
   "metadata": {},
   "outputs": [],
   "source": [
    "# We scale the independent variables to put them in the same scale range\n",
    "from sklearn.preprocessing import StandardScaler"
   ]
  },
  {
   "cell_type": "code",
   "execution_count": 33,
   "id": "a8dade26",
   "metadata": {},
   "outputs": [],
   "source": [
    "scaler = StandardScaler()"
   ]
  },
  {
   "cell_type": "code",
   "execution_count": 34,
   "id": "20e7a080",
   "metadata": {},
   "outputs": [],
   "source": [
    "# x_train data is scaled here\n",
    "x_train_scaled = scaler.fit_transform(x_train)"
   ]
  },
  {
   "cell_type": "code",
   "execution_count": 35,
   "id": "af258d5a",
   "metadata": {},
   "outputs": [],
   "source": [
    "# x_test data is scaled here too\n",
    "x_test_scaled = scaler.fit_transform(x_test)"
   ]
  },
  {
   "cell_type": "code",
   "execution_count": 36,
   "id": "75dc5e4b",
   "metadata": {},
   "outputs": [],
   "source": [
    "from sklearn.linear_model import LogisticRegression\n",
    "from sklearn.metrics import classification_report,confusion_matrix,accuracy_score\n",
    "from sklearn.tree import DecisionTreeClassifier\n",
    "from sklearn.ensemble import RandomForestClassifier\n",
    "from sklearn.svm import SVC\n",
    "from sklearn.neighbors import KNeighborsClassifier\n",
    "from sklearn.neural_network import MLPClassifier\n"
   ]
  },
  {
   "cell_type": "code",
   "execution_count": 37,
   "id": "0d20e5d0",
   "metadata": {},
   "outputs": [],
   "source": [
    "models = {\n",
    "    'log_reg' : LogisticRegression(),\n",
    "    'DT' : DecisionTreeClassifier(),\n",
    "    'RF' : RandomForestClassifier(),\n",
    "    'SVM' :SVC(),\n",
    "    'KN' : KNeighborsClassifier(),\n",
    "    'NN': MLPClassifier(),\n",
    "}\n"
   ]
  },
  {
   "cell_type": "code",
   "execution_count": 38,
   "id": "83c98b5d",
   "metadata": {},
   "outputs": [],
   "source": [
    "def model_building(model, x_train_scaled, x_test_scaled, y_train, y_test):\n",
    "    model_fit = model.fit(x_train_scaled, y_train)\n",
    "    print(model_fit, ':')\n",
    "    y_pred = model.predict(x_test_scaled)\n",
    "    score = model.score(x_test_scaled, y_test)\n",
    "    print(score)"
   ]
  },
  {
   "cell_type": "code",
   "execution_count": 39,
   "id": "e2ac91c6",
   "metadata": {},
   "outputs": [
    {
     "name": "stdout",
     "output_type": "stream",
     "text": [
      "LogisticRegression() :\n",
      "0.7788944723618091\n",
      "DecisionTreeClassifier() :\n",
      "0.7386934673366834\n",
      "RandomForestClassifier() :\n",
      "0.8040201005025126\n",
      "SVC() :\n",
      "0.8391959798994975\n",
      "KNeighborsClassifier() :\n",
      "0.7939698492462312\n",
      "MLPClassifier() :\n",
      "0.8241206030150754\n"
     ]
    },
    {
     "name": "stderr",
     "output_type": "stream",
     "text": [
      "c:\\Users\\TeeFaith\\anaconda3\\lib\\site-packages\\sklearn\\neural_network\\_multilayer_perceptron.py:614: ConvergenceWarning: Stochastic Optimizer: Maximum iterations (200) reached and the optimization hasn't converged yet.\n",
      "  warnings.warn(\n"
     ]
    }
   ],
   "source": [
    "for i in range(len(models)):\n",
    "    model = list(models.values())[i]\n",
    "    model_building(model, x_train_scaled, x_test_scaled, y_train, y_test)"
   ]
  },
  {
   "cell_type": "code",
   "execution_count": null,
   "id": "563ae8a4",
   "metadata": {},
   "outputs": [],
   "source": []
  },
  {
   "cell_type": "markdown",
   "id": "4949c771",
   "metadata": {},
   "source": [
    "### NOW WE ARE GOING TO MAKE A PREDICTIVE SYSTEM\n",
    "\n",
    "Since the support vector machine algorithm performs well on this dataset, giving an initial 83% accuracy it is going to be used as our model for this project."
   ]
  },
  {
   "cell_type": "code",
   "execution_count": 40,
   "id": "5adb48a8",
   "metadata": {},
   "outputs": [],
   "source": [
    "final_model = SVC()"
   ]
  },
  {
   "cell_type": "code",
   "execution_count": 41,
   "id": "4fe1692c",
   "metadata": {},
   "outputs": [
    {
     "data": {
      "text/plain": [
       "SVC()"
      ]
     },
     "execution_count": 41,
     "metadata": {},
     "output_type": "execute_result"
    }
   ],
   "source": [
    "final_model.fit(x_train_scaled, y_train)"
   ]
  },
  {
   "cell_type": "code",
   "execution_count": 42,
   "id": "25cb82b5",
   "metadata": {},
   "outputs": [
    {
     "data": {
      "text/html": [
       "<div>\n",
       "<style scoped>\n",
       "    .dataframe tbody tr th:only-of-type {\n",
       "        vertical-align: middle;\n",
       "    }\n",
       "\n",
       "    .dataframe tbody tr th {\n",
       "        vertical-align: top;\n",
       "    }\n",
       "\n",
       "    .dataframe thead th {\n",
       "        text-align: right;\n",
       "    }\n",
       "</style>\n",
       "<table border=\"1\" class=\"dataframe\">\n",
       "  <thead>\n",
       "    <tr style=\"text-align: right;\">\n",
       "      <th></th>\n",
       "      <th>Unnamed: 0</th>\n",
       "      <th>Age</th>\n",
       "      <th>Employment Type</th>\n",
       "      <th>GraduateOrNot</th>\n",
       "      <th>AnnualIncome</th>\n",
       "      <th>FamilyMembers</th>\n",
       "      <th>ChronicDiseases</th>\n",
       "      <th>FrequentFlyer</th>\n",
       "      <th>EverTravelledAbroad</th>\n",
       "      <th>TravelInsurance</th>\n",
       "    </tr>\n",
       "  </thead>\n",
       "  <tbody>\n",
       "    <tr>\n",
       "      <th>0</th>\n",
       "      <td>0</td>\n",
       "      <td>31</td>\n",
       "      <td>Government Sector</td>\n",
       "      <td>Yes</td>\n",
       "      <td>400000</td>\n",
       "      <td>6</td>\n",
       "      <td>1</td>\n",
       "      <td>No</td>\n",
       "      <td>No</td>\n",
       "      <td>0</td>\n",
       "    </tr>\n",
       "    <tr>\n",
       "      <th>1</th>\n",
       "      <td>1</td>\n",
       "      <td>31</td>\n",
       "      <td>Private Sector/Self Employed</td>\n",
       "      <td>Yes</td>\n",
       "      <td>1250000</td>\n",
       "      <td>7</td>\n",
       "      <td>0</td>\n",
       "      <td>No</td>\n",
       "      <td>No</td>\n",
       "      <td>0</td>\n",
       "    </tr>\n",
       "    <tr>\n",
       "      <th>2</th>\n",
       "      <td>2</td>\n",
       "      <td>34</td>\n",
       "      <td>Private Sector/Self Employed</td>\n",
       "      <td>Yes</td>\n",
       "      <td>500000</td>\n",
       "      <td>4</td>\n",
       "      <td>1</td>\n",
       "      <td>No</td>\n",
       "      <td>No</td>\n",
       "      <td>1</td>\n",
       "    </tr>\n",
       "    <tr>\n",
       "      <th>3</th>\n",
       "      <td>3</td>\n",
       "      <td>28</td>\n",
       "      <td>Private Sector/Self Employed</td>\n",
       "      <td>Yes</td>\n",
       "      <td>700000</td>\n",
       "      <td>3</td>\n",
       "      <td>1</td>\n",
       "      <td>No</td>\n",
       "      <td>No</td>\n",
       "      <td>0</td>\n",
       "    </tr>\n",
       "    <tr>\n",
       "      <th>4</th>\n",
       "      <td>4</td>\n",
       "      <td>28</td>\n",
       "      <td>Private Sector/Self Employed</td>\n",
       "      <td>Yes</td>\n",
       "      <td>700000</td>\n",
       "      <td>8</td>\n",
       "      <td>1</td>\n",
       "      <td>Yes</td>\n",
       "      <td>No</td>\n",
       "      <td>0</td>\n",
       "    </tr>\n",
       "    <tr>\n",
       "      <th>...</th>\n",
       "      <td>...</td>\n",
       "      <td>...</td>\n",
       "      <td>...</td>\n",
       "      <td>...</td>\n",
       "      <td>...</td>\n",
       "      <td>...</td>\n",
       "      <td>...</td>\n",
       "      <td>...</td>\n",
       "      <td>...</td>\n",
       "      <td>...</td>\n",
       "    </tr>\n",
       "    <tr>\n",
       "      <th>1982</th>\n",
       "      <td>1982</td>\n",
       "      <td>33</td>\n",
       "      <td>Private Sector/Self Employed</td>\n",
       "      <td>Yes</td>\n",
       "      <td>1500000</td>\n",
       "      <td>4</td>\n",
       "      <td>0</td>\n",
       "      <td>Yes</td>\n",
       "      <td>Yes</td>\n",
       "      <td>1</td>\n",
       "    </tr>\n",
       "    <tr>\n",
       "      <th>1983</th>\n",
       "      <td>1983</td>\n",
       "      <td>28</td>\n",
       "      <td>Private Sector/Self Employed</td>\n",
       "      <td>Yes</td>\n",
       "      <td>1750000</td>\n",
       "      <td>5</td>\n",
       "      <td>1</td>\n",
       "      <td>No</td>\n",
       "      <td>Yes</td>\n",
       "      <td>0</td>\n",
       "    </tr>\n",
       "    <tr>\n",
       "      <th>1984</th>\n",
       "      <td>1984</td>\n",
       "      <td>28</td>\n",
       "      <td>Private Sector/Self Employed</td>\n",
       "      <td>Yes</td>\n",
       "      <td>1150000</td>\n",
       "      <td>6</td>\n",
       "      <td>1</td>\n",
       "      <td>No</td>\n",
       "      <td>No</td>\n",
       "      <td>0</td>\n",
       "    </tr>\n",
       "    <tr>\n",
       "      <th>1985</th>\n",
       "      <td>1985</td>\n",
       "      <td>34</td>\n",
       "      <td>Private Sector/Self Employed</td>\n",
       "      <td>Yes</td>\n",
       "      <td>1000000</td>\n",
       "      <td>6</td>\n",
       "      <td>0</td>\n",
       "      <td>Yes</td>\n",
       "      <td>Yes</td>\n",
       "      <td>1</td>\n",
       "    </tr>\n",
       "    <tr>\n",
       "      <th>1986</th>\n",
       "      <td>1986</td>\n",
       "      <td>34</td>\n",
       "      <td>Private Sector/Self Employed</td>\n",
       "      <td>Yes</td>\n",
       "      <td>500000</td>\n",
       "      <td>4</td>\n",
       "      <td>0</td>\n",
       "      <td>No</td>\n",
       "      <td>No</td>\n",
       "      <td>0</td>\n",
       "    </tr>\n",
       "  </tbody>\n",
       "</table>\n",
       "<p>1987 rows × 10 columns</p>\n",
       "</div>"
      ],
      "text/plain": [
       "      Unnamed: 0  Age               Employment Type GraduateOrNot  \\\n",
       "0              0   31             Government Sector           Yes   \n",
       "1              1   31  Private Sector/Self Employed           Yes   \n",
       "2              2   34  Private Sector/Self Employed           Yes   \n",
       "3              3   28  Private Sector/Self Employed           Yes   \n",
       "4              4   28  Private Sector/Self Employed           Yes   \n",
       "...          ...  ...                           ...           ...   \n",
       "1982        1982   33  Private Sector/Self Employed           Yes   \n",
       "1983        1983   28  Private Sector/Self Employed           Yes   \n",
       "1984        1984   28  Private Sector/Self Employed           Yes   \n",
       "1985        1985   34  Private Sector/Self Employed           Yes   \n",
       "1986        1986   34  Private Sector/Self Employed           Yes   \n",
       "\n",
       "      AnnualIncome  FamilyMembers  ChronicDiseases FrequentFlyer  \\\n",
       "0           400000              6                1            No   \n",
       "1          1250000              7                0            No   \n",
       "2           500000              4                1            No   \n",
       "3           700000              3                1            No   \n",
       "4           700000              8                1           Yes   \n",
       "...            ...            ...              ...           ...   \n",
       "1982       1500000              4                0           Yes   \n",
       "1983       1750000              5                1            No   \n",
       "1984       1150000              6                1            No   \n",
       "1985       1000000              6                0           Yes   \n",
       "1986        500000              4                0            No   \n",
       "\n",
       "     EverTravelledAbroad  TravelInsurance  \n",
       "0                     No                0  \n",
       "1                     No                0  \n",
       "2                     No                1  \n",
       "3                     No                0  \n",
       "4                     No                0  \n",
       "...                  ...              ...  \n",
       "1982                 Yes                1  \n",
       "1983                 Yes                0  \n",
       "1984                  No                0  \n",
       "1985                 Yes                1  \n",
       "1986                  No                0  \n",
       "\n",
       "[1987 rows x 10 columns]"
      ]
     },
     "execution_count": 42,
     "metadata": {},
     "output_type": "execute_result"
    }
   ],
   "source": [
    "data = pd.read_csv('TravelInsurancePrediction.csv')\n",
    "data"
   ]
  },
  {
   "cell_type": "code",
   "execution_count": 43,
   "id": "424a067e",
   "metadata": {},
   "outputs": [
    {
     "data": {
      "text/html": [
       "<div>\n",
       "<style scoped>\n",
       "    .dataframe tbody tr th:only-of-type {\n",
       "        vertical-align: middle;\n",
       "    }\n",
       "\n",
       "    .dataframe tbody tr th {\n",
       "        vertical-align: top;\n",
       "    }\n",
       "\n",
       "    .dataframe thead th {\n",
       "        text-align: right;\n",
       "    }\n",
       "</style>\n",
       "<table border=\"1\" class=\"dataframe\">\n",
       "  <thead>\n",
       "    <tr style=\"text-align: right;\">\n",
       "      <th></th>\n",
       "      <th>Age</th>\n",
       "      <th>Employment Type</th>\n",
       "      <th>GraduateOrNot</th>\n",
       "      <th>AnnualIncome</th>\n",
       "      <th>FamilyMembers</th>\n",
       "      <th>ChronicDiseases</th>\n",
       "      <th>FrequentFlyer</th>\n",
       "      <th>EverTravelledAbroad</th>\n",
       "      <th>TravelInsurance</th>\n",
       "    </tr>\n",
       "  </thead>\n",
       "  <tbody>\n",
       "    <tr>\n",
       "      <th>0</th>\n",
       "      <td>31</td>\n",
       "      <td>0</td>\n",
       "      <td>1</td>\n",
       "      <td>400000</td>\n",
       "      <td>6</td>\n",
       "      <td>1</td>\n",
       "      <td>0</td>\n",
       "      <td>0</td>\n",
       "      <td>0</td>\n",
       "    </tr>\n",
       "    <tr>\n",
       "      <th>1</th>\n",
       "      <td>31</td>\n",
       "      <td>1</td>\n",
       "      <td>1</td>\n",
       "      <td>1250000</td>\n",
       "      <td>7</td>\n",
       "      <td>0</td>\n",
       "      <td>0</td>\n",
       "      <td>0</td>\n",
       "      <td>0</td>\n",
       "    </tr>\n",
       "    <tr>\n",
       "      <th>2</th>\n",
       "      <td>34</td>\n",
       "      <td>1</td>\n",
       "      <td>1</td>\n",
       "      <td>500000</td>\n",
       "      <td>4</td>\n",
       "      <td>1</td>\n",
       "      <td>0</td>\n",
       "      <td>0</td>\n",
       "      <td>1</td>\n",
       "    </tr>\n",
       "    <tr>\n",
       "      <th>3</th>\n",
       "      <td>28</td>\n",
       "      <td>1</td>\n",
       "      <td>1</td>\n",
       "      <td>700000</td>\n",
       "      <td>3</td>\n",
       "      <td>1</td>\n",
       "      <td>0</td>\n",
       "      <td>0</td>\n",
       "      <td>0</td>\n",
       "    </tr>\n",
       "    <tr>\n",
       "      <th>4</th>\n",
       "      <td>28</td>\n",
       "      <td>1</td>\n",
       "      <td>1</td>\n",
       "      <td>700000</td>\n",
       "      <td>8</td>\n",
       "      <td>1</td>\n",
       "      <td>1</td>\n",
       "      <td>0</td>\n",
       "      <td>0</td>\n",
       "    </tr>\n",
       "    <tr>\n",
       "      <th>...</th>\n",
       "      <td>...</td>\n",
       "      <td>...</td>\n",
       "      <td>...</td>\n",
       "      <td>...</td>\n",
       "      <td>...</td>\n",
       "      <td>...</td>\n",
       "      <td>...</td>\n",
       "      <td>...</td>\n",
       "      <td>...</td>\n",
       "    </tr>\n",
       "    <tr>\n",
       "      <th>1982</th>\n",
       "      <td>33</td>\n",
       "      <td>1</td>\n",
       "      <td>1</td>\n",
       "      <td>1500000</td>\n",
       "      <td>4</td>\n",
       "      <td>0</td>\n",
       "      <td>1</td>\n",
       "      <td>1</td>\n",
       "      <td>1</td>\n",
       "    </tr>\n",
       "    <tr>\n",
       "      <th>1983</th>\n",
       "      <td>28</td>\n",
       "      <td>1</td>\n",
       "      <td>1</td>\n",
       "      <td>1750000</td>\n",
       "      <td>5</td>\n",
       "      <td>1</td>\n",
       "      <td>0</td>\n",
       "      <td>1</td>\n",
       "      <td>0</td>\n",
       "    </tr>\n",
       "    <tr>\n",
       "      <th>1984</th>\n",
       "      <td>28</td>\n",
       "      <td>1</td>\n",
       "      <td>1</td>\n",
       "      <td>1150000</td>\n",
       "      <td>6</td>\n",
       "      <td>1</td>\n",
       "      <td>0</td>\n",
       "      <td>0</td>\n",
       "      <td>0</td>\n",
       "    </tr>\n",
       "    <tr>\n",
       "      <th>1985</th>\n",
       "      <td>34</td>\n",
       "      <td>1</td>\n",
       "      <td>1</td>\n",
       "      <td>1000000</td>\n",
       "      <td>6</td>\n",
       "      <td>0</td>\n",
       "      <td>1</td>\n",
       "      <td>1</td>\n",
       "      <td>1</td>\n",
       "    </tr>\n",
       "    <tr>\n",
       "      <th>1986</th>\n",
       "      <td>34</td>\n",
       "      <td>1</td>\n",
       "      <td>1</td>\n",
       "      <td>500000</td>\n",
       "      <td>4</td>\n",
       "      <td>0</td>\n",
       "      <td>0</td>\n",
       "      <td>0</td>\n",
       "      <td>0</td>\n",
       "    </tr>\n",
       "  </tbody>\n",
       "</table>\n",
       "<p>1987 rows × 9 columns</p>\n",
       "</div>"
      ],
      "text/plain": [
       "      Age  Employment Type  GraduateOrNot  AnnualIncome  FamilyMembers  \\\n",
       "0      31                0              1        400000              6   \n",
       "1      31                1              1       1250000              7   \n",
       "2      34                1              1        500000              4   \n",
       "3      28                1              1        700000              3   \n",
       "4      28                1              1        700000              8   \n",
       "...   ...              ...            ...           ...            ...   \n",
       "1982   33                1              1       1500000              4   \n",
       "1983   28                1              1       1750000              5   \n",
       "1984   28                1              1       1150000              6   \n",
       "1985   34                1              1       1000000              6   \n",
       "1986   34                1              1        500000              4   \n",
       "\n",
       "      ChronicDiseases  FrequentFlyer  EverTravelledAbroad  TravelInsurance  \n",
       "0                   1              0                    0                0  \n",
       "1                   0              0                    0                0  \n",
       "2                   1              0                    0                1  \n",
       "3                   1              0                    0                0  \n",
       "4                   1              1                    0                0  \n",
       "...               ...            ...                  ...              ...  \n",
       "1982                0              1                    1                1  \n",
       "1983                1              0                    1                0  \n",
       "1984                1              0                    0                0  \n",
       "1985                0              1                    1                1  \n",
       "1986                0              0                    0                0  \n",
       "\n",
       "[1987 rows x 9 columns]"
      ]
     },
     "execution_count": 43,
     "metadata": {},
     "output_type": "execute_result"
    }
   ],
   "source": [
    "df1"
   ]
  },
  {
   "cell_type": "code",
   "execution_count": 44,
   "id": "eb4c2c73",
   "metadata": {},
   "outputs": [],
   "source": [
    "#KEY:\n",
    "    # Age, \n",
    "    # Employment Type(0 represents GOVERNMENT SECTOR and 1 represents PRIVATE SECTOR), \n",
    "    # Graduate or not(1 represent GRADUATE and 0 represent NOT GRADUATE)\n",
    "    # Annual Income, \n",
    "    # Family members, \n",
    "    # Chronic Diseases(1 represent HAS CHRONIC DISEASES and 0 represent DOES NOT HAVE CHRONIC DISEASES)\n",
    "    # Frequent Flyer(0 represent NOT A FREQUENT FLYER, 1 represent FREQUENT FLYER ), \n",
    "    # Ever Travelled Abroad(0 represent NEVER TRAVELLED ABROAD and 1 represent TRAVELLED ABROAD)\n",
    "\n",
    "\n",
    "input_data = (34,1,1,1000000,6,0,1,1)"
   ]
  },
  {
   "cell_type": "code",
   "execution_count": 45,
   "id": "97c8fb94",
   "metadata": {},
   "outputs": [],
   "source": [
    "input_data_array = np.asarray(input_data)\n",
    "reshaped_input = input_data_array.reshape(1, -1)"
   ]
  },
  {
   "cell_type": "code",
   "execution_count": 46,
   "id": "421af479",
   "metadata": {},
   "outputs": [],
   "source": [
    "# We transform our input data using the Standard Scaler function\n",
    "input_transformed = scaler.transform(reshaped_input)"
   ]
  },
  {
   "cell_type": "code",
   "execution_count": 47,
   "id": "610580ba",
   "metadata": {},
   "outputs": [
    {
     "name": "stdout",
     "output_type": "stream",
     "text": [
      "[1]\n"
     ]
    }
   ],
   "source": [
    "prediction = final_model.predict(input_transformed)\n",
    "print(prediction)"
   ]
  },
  {
   "cell_type": "code",
   "execution_count": 48,
   "id": "9d15db5c",
   "metadata": {},
   "outputs": [
    {
     "name": "stdout",
     "output_type": "stream",
     "text": [
      "this customer will buy the insurance\n"
     ]
    }
   ],
   "source": [
    "if prediction==0:\n",
    "    print('this customer will not buy the insurance')\n",
    "    \n",
    "else:\n",
    "    print('this customer will buy the insurance')"
   ]
  },
  {
   "cell_type": "code",
   "execution_count": 49,
   "id": "b505660a",
   "metadata": {},
   "outputs": [],
   "source": [
    "import pickle"
   ]
  },
  {
   "cell_type": "code",
   "execution_count": 50,
   "id": "1b21e49c",
   "metadata": {},
   "outputs": [],
   "source": [
    "pickle.dump(final_model, open('trained model.pkl', 'wb'))"
   ]
  },
  {
   "cell_type": "code",
   "execution_count": 51,
   "id": "2038444f",
   "metadata": {},
   "outputs": [],
   "source": [
    "import pickle"
   ]
  },
  {
   "cell_type": "code",
   "execution_count": 52,
   "id": "f8c8e741",
   "metadata": {},
   "outputs": [],
   "source": [
    "pickle.dump(scaler, open('scaler file', 'wb'))"
   ]
  }
 ],
 "metadata": {
  "kernelspec": {
   "display_name": "Python 3 (ipykernel)",
   "language": "python",
   "name": "python3"
  },
  "language_info": {
   "codemirror_mode": {
    "name": "ipython",
    "version": 3
   },
   "file_extension": ".py",
   "mimetype": "text/x-python",
   "name": "python",
   "nbconvert_exporter": "python",
   "pygments_lexer": "ipython3",
   "version": "3.11.5"
  },
  "vscode": {
   "interpreter": {
    "hash": "db821f465ad2665c3cfe9589857d63af7299eecffd0ae219c2046b0342d68c97"
   }
  }
 },
 "nbformat": 4,
 "nbformat_minor": 5
}
